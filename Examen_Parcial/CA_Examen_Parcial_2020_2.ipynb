{
  "nbformat": 4,
  "nbformat_minor": 0,
  "metadata": {
    "colab": {
      "name": "CA - Examen Parcial - 2020-2",
      "provenance": []
    },
    "kernelspec": {
      "name": "python3",
      "display_name": "Python 3"
    }
  },
  "cells": [
    {
      "cell_type": "markdown",
      "metadata": {
        "id": "peNv8JLDkSHF"
      },
      "source": [
        "# Complejidad Algorítmica - Examen Parcial"
      ]
    },
    {
      "cell_type": "markdown",
      "metadata": {
        "id": "QWNjYh93k-Rw"
      },
      "source": [
        "## Instrucciones\n",
        "\n",
        "1.\tEl examen consta de 2 preguntas, y tendrá 150 minutos para resolverlas.\n",
        "2.\tLas dos preguntas han de ser respondidas en un único archivo ipython notebook.\n",
        "3.\tCada examen cuenta con un equipo académico, el cual estará conectado durante los primeros 20 minutos del examen. \n",
        "4.\tLas dudas conceptuales sobre el examen han de presentarse dentro de los primeros 20 minutos mediante un correo al profesor CANAVAL SANCHEZ, LUIS MARTIN a pcsilcan@upc.edu.pe o al profesor GONZALEZ VALENZUELA, RICARDO EUGENIO a pcsirgon@upc.edu.pe.\n",
        "5.\tLos inconvenientes técnicos pueden presentarse a pasado los primeros 20 minutos, puede comunicarlo al profesor CANAVAL SANCHEZ, LUIS MARTIN a pcsilcan@upc.edu.pe o al profesor GONZALEZ VALENZUELA, RICARDO EUGENIO a pcsirgon@upc.edu.pe.\n",
        "6.\tLos profesores en mención solo recibirán correos provenientes de las cuentas UPC, de ninguna manera se recibirán correos de cuentas públicas. \n",
        "7.\tAnte problemas técnicos, debe de forma obligatoria adjuntar evidencias del mismo, como capturas de pantalla, videos, fotos, etc. Siendo requisito fundamental que, en cada evidencia se pueda apreciar claramente la fecha y hora del sistema operativo del computador donde el alumno está rindiendo el examen. \n",
        "8.\tLos correos sobre problemas técnicos se recibirán hasta 15 minutos luego de culminado el examen.\n"
      ]
    },
    {
      "cell_type": "markdown",
      "metadata": {
        "id": "vLrugUgnlIMN"
      },
      "source": [
        "## Pregunta 1 [10 puntos]\n",
        "\n",
        "La coloración de grafos, normalmente, busca colorear los vértices de un grafo de tal forma que no existan aristas entre vértices del mismo color. En este particular caso, se desea colorear un grafo de dos colores (blanco y negro), sin embargo la restricción será que únicamente los vértices de color negro no puedan estar unidos entre sí (como se muestra en la figura)."
      ]
    },
    {
      "cell_type": "markdown",
      "metadata": {
        "id": "jlpixW9UmIJG"
      },
      "source": [
        "![GraphColoring.png](data:image/png;base64,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)"
      ]
    },
    {
      "cell_type": "markdown",
      "metadata": {
        "id": "upGgXRw6mSFu"
      },
      "source": [
        "a) Desarrolle un algoritmo que dado cualquien grafo G = (V, E), halle la solución óptima. [6 puntos]"
      ]
    },
    {
      "cell_type": "code",
      "metadata": {
        "id": "t3driBoynpTi"
      },
      "source": [
        "adj = [\n",
        " [1,4],\n",
        " [0,5],\n",
        " [3,4,5],\n",
        " [2,4],\n",
        " [0,2,3,5],\n",
        " [1,2,4]\n",
        "]\n",
        "\n",
        "visitados = [False] * len(adj)\n",
        "\n",
        "color = [\"\"] * len(adj)\n",
        "\n",
        "prev = [None] * len(adj)\n",
        "\n",
        "queue = []\n",
        "\n",
        "\n",
        "start = 0\n",
        "\n",
        "def bfs():\n",
        "    visitados[start] = True\n",
        "    color[start] = \"Black\"\n",
        "    queue.append(start)\n",
        "    while queue:\n",
        "        v = queue.pop(0)\n",
        "        for u in adj[v]:\n",
        "            if visitados[u] == False:\n",
        "                if(color[v] == \"White\"):\n",
        "                    color[u] = \"Black\"\n",
        "                else:\n",
        "                    color[u] = \"White\"\n",
        "                \n",
        "                visitados[u] = True\n",
        "                queue.append(u)\n",
        "            prev[u] = v\n",
        "\n",
        "bfs()\n",
        "colorcan = color\n",
        "\n",
        "#print(prev)\n",
        "#print(color)\n",
        "for i in range(1 , len(prev)):\n",
        "    if(color[i] == \"Black\"):\n",
        "        j = prev[i]\n",
        "        if(color[j] == \"Black\"):\n",
        "            #print(\"aca se cumple\")\n",
        "            colorcan[i] = \"White\"\n",
        "\n",
        "\n",
        "for i in range(len(color)):\n",
        "    print(\"Del Nodo\", i + 1 , \"su color es\" ,color[i] )"
      ],
      "execution_count": null,
      "outputs": []
    },
    {
      "cell_type": "markdown",
      "metadata": {
        "id": "17PV4z7roN7B"
      },
      "source": [
        "b) Indique la complejidad, en el peor caso, para el algoritmo utilizado (justifique su respuesta) [3 puntos] "
      ]
    },
    {
      "cell_type": "markdown",
      "metadata": {
        "id": "D8LUgrLKnvmF"
      },
      "source": [
        "<font color='green'>En el peor de los casos su compleidad seria de O(v + E) , puesto que se recorreran todas las aristas y todas las vertices para asignar los colores a los nodos</font>"
      ]
    },
    {
      "cell_type": "markdown",
      "metadata": {
        "id": "zwClA4K-of71"
      },
      "source": [
        "c) Indique de que tipo es el algoritmo utilizado: fuerza bruta, backtracking, divide y venceras, etc. (Justifique su respuesta) [1 punto]"
      ]
    },
    {
      "cell_type": "markdown",
      "metadata": {
        "id": "qaPJ3v-Mogof"
      },
      "source": [
        "<font color='green'>Se esta usando el algoritmo de Búsqueda en anchura(BFS) pues esta nos permite conocer los hijos de un nodo , que es lo que necesita para asignar los colores de un nodo </font>"
      ]
    },
    {
      "cell_type": "markdown",
      "metadata": {
        "id": "LKz9hJc_pwq8"
      },
      "source": [
        "## Pregunta 2 [10 puntos]"
      ]
    },
    {
      "cell_type": "markdown",
      "metadata": {
        "id": "LIIU0UDup0Tc"
      },
      "source": [
        "Su gobierno requiere que varios de sus documentos legales tengan estampillas, para poder obtener ingresos de ellos. Sin embargo, se limita el número de estampillas (denominado por $nE$) que cada tipo de documento puede tener. Inicialmente su gobierno desea saber hasta cuantas denominaciones de estampillas debe tener considerar. La solución se dará en función del número máximo de estampillas que lleve algún tipo de documento, y el número de denominaciones de estampillas (denominado por $nD$); donde sólo se usarán las denominaciones de estampillas cuyas combinaciones se halle la mayor secuencia continua de números $[Solucion(nE, nD)]$. Por ejemplo:\n",
        "\n",
        "Si se desea usar máximo 3 estampillas de 2 catégorias\n",
        "\n",
        "$Solucion(3, 2)$ $\\rightarrow$ Usar estampillas de S/1 y S/3 por lo tanto la máxima denominación de estampilla será la de S/3\n",
        "\n",
        "Una solución podría haber sido usar estampillas de S/1 y S/4, pero estas sólo me permiten combinaciones de hasta 6 valores consecutivos de S/1 a S/6 (así como S/8, S/9 y S/12). \n",
        "\n",
        "La solución de usar estampillas de S/1 y S/3, nos permite combinaciones que involucran 7 valores consecutivos de S/1 a S/7 (así como S/9). \n",
        "\n",
        "Dados los valores de $nE$ y $nD$, indique:\n",
        "\n",
        "*   las denominaciones de estampillas que usaría;\n",
        "*   el valor de la máxima denominación de estampilla; y \n",
        "*   el valor máximo de la secuencia continua de combinaciones.\n",
        "\n",
        "**Entrada del algoritmo:**  Valores de $nE$ y $nD$ (e.g.: 3 y 2)\n",
        "\n",
        "**Salida del algoritmo:**  Valores de las estampillas a usar, y hasta cuantas combinaciones consecutivas, empezando en uno, permiten tener (e.g.: Imprima estampillas de S/1 y S/3, le permite tener 7 combinaciones consecutivas).\n"
      ]
    },
    {
      "source": [
        "ne = int(input())\n",
        "\n",
        "nd = int(input())\n",
        "\n",
        "\n",
        "def raiz(l):\n",
        "    for i in range(1 , nd):\n",
        "        for j in range(0 , nd):\n",
        "            l.add(0)"
      ],
      "cell_type": "markdown",
      "metadata": {
        "id": "fYL90_sGsXQv"
      }
    }
  ]
}